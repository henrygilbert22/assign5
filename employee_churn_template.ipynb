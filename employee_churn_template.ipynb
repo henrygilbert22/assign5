{
  "cells": [
    {
      "cell_type": "markdown",
      "id": "82ba5cb0-b81e-43ea-acfa-e661fff2572c",
      "metadata": {
        "id": "82ba5cb0-b81e-43ea-acfa-e661fff2572c"
      },
      "source": [
        "# **Machine Learning using scikit-learn**"
      ]
    },
    {
      "cell_type": "markdown",
      "id": "3a251b12-73f7-4007-8f91-a866b8539ded",
      "metadata": {
        "id": "3a251b12-73f7-4007-8f91-a866b8539ded"
      },
      "source": [
        "As a reminder, below are the following best practices we should follow when performing Machine Learning in Python:\n",
        "\n",
        "1. Perform all pre-processing steps within cross-validation\n",
        "2. Measure model performance (and model selection) using cross-validation\n",
        "3. Follow literate programming practices to make code readable and make collaboration easier\n",
        "\n",
        "## Problem Formulation\n",
        "\n",
        "In this example, we will use IBM's HR Attrition dataset, available here: https://www.kaggle.com/datasets/pavansubhasht/ibm-hr-analytics-attrition-dataset.\n",
        "The dataset contains data on 1470 employees. The variables covered in this dataset focus heavily on demographic attributes (e.g. gender, age and race), social related attributes (e.g. marital status) and work related attributes (e.g. tenure and pay)."
      ]
    },
    {
      "cell_type": "code",
      "execution_count": 1,
      "id": "5d51761d-af0e-411f-9375-54bcd91a62db",
      "metadata": {
        "id": "5d51761d-af0e-411f-9375-54bcd91a62db"
      },
      "outputs": [],
      "source": [
        "#tables and visualizations\n",
        "import pandas as pd\n",
        "import numpy as np\n",
        "import seaborn as sns\n",
        "import matplotlib.pyplot as plt\n",
        "\n",
        "#machine learning\n",
        "from sklearn.model_selection import train_test_split, GridSearchCV\n",
        "from sklearn.linear_model import LogisticRegression\n",
        "from sklearn.ensemble import RandomForestClassifier\n",
        "from sklearn.ensemble import GradientBoostingClassifier\n",
        "from sklearn.pipeline import Pipeline \n",
        "from sklearn.compose import ColumnTransformer, make_column_selector\n",
        "from sklearn.impute import SimpleImputer\n",
        "from sklearn.preprocessing import OneHotEncoder, LabelBinarizer, StandardScaler\n",
        "from sklearn import config_context\n",
        "from sklearn.metrics import classification_report, confusion_matrix, ConfusionMatrixDisplay"
      ]
    },
    {
      "cell_type": "markdown",
      "id": "87e69be8-1415-482e-adc2-4d71a697535b",
      "metadata": {
        "id": "87e69be8-1415-482e-adc2-4d71a697535b"
      },
      "source": [
        "## Load Data\n",
        "\n",
        "Here we first load the data into python using pandas and read it in as a pandas dataframe which is the format which we will use throughout the example. "
      ]
    },
    {
      "cell_type": "code",
      "execution_count": 3,
      "id": "6b347d70-2e7b-4cdc-a290-ace614045711",
      "metadata": {
        "colab": {
          "base_uri": "https://localhost:8080/",
          "height": 1000
        },
        "id": "6b347d70-2e7b-4cdc-a290-ace614045711",
        "outputId": "ac9495f5-0cd9-4291-f71c-1e88e7422cdf"
      },
      "outputs": [
        {
          "data": {
            "text/html": [
              "<div>\n",
              "<style scoped>\n",
              "    .dataframe tbody tr th:only-of-type {\n",
              "        vertical-align: middle;\n",
              "    }\n",
              "\n",
              "    .dataframe tbody tr th {\n",
              "        vertical-align: top;\n",
              "    }\n",
              "\n",
              "    .dataframe thead th {\n",
              "        text-align: right;\n",
              "    }\n",
              "</style>\n",
              "<table border=\"1\" class=\"dataframe\">\n",
              "  <thead>\n",
              "    <tr style=\"text-align: right;\">\n",
              "      <th></th>\n",
              "      <th>Age</th>\n",
              "      <th>Attrition</th>\n",
              "      <th>BusinessTravel</th>\n",
              "      <th>DailyRate</th>\n",
              "      <th>Department</th>\n",
              "      <th>DistanceFromHome</th>\n",
              "      <th>Education</th>\n",
              "      <th>EducationField</th>\n",
              "      <th>EmployeeCount</th>\n",
              "      <th>EmployeeNumber</th>\n",
              "      <th>...</th>\n",
              "      <th>RelationshipSatisfaction</th>\n",
              "      <th>StandardHours</th>\n",
              "      <th>StockOptionLevel</th>\n",
              "      <th>TotalWorkingYears</th>\n",
              "      <th>TrainingTimesLastYear</th>\n",
              "      <th>WorkLifeBalance</th>\n",
              "      <th>YearsAtCompany</th>\n",
              "      <th>YearsInCurrentRole</th>\n",
              "      <th>YearsSinceLastPromotion</th>\n",
              "      <th>YearsWithCurrManager</th>\n",
              "    </tr>\n",
              "  </thead>\n",
              "  <tbody>\n",
              "    <tr>\n",
              "      <th>0</th>\n",
              "      <td>41</td>\n",
              "      <td>Yes</td>\n",
              "      <td>Travel_Rarely</td>\n",
              "      <td>1102</td>\n",
              "      <td>Sales</td>\n",
              "      <td>1</td>\n",
              "      <td>2</td>\n",
              "      <td>Life Sciences</td>\n",
              "      <td>1</td>\n",
              "      <td>1</td>\n",
              "      <td>...</td>\n",
              "      <td>1</td>\n",
              "      <td>80</td>\n",
              "      <td>0</td>\n",
              "      <td>8</td>\n",
              "      <td>0</td>\n",
              "      <td>1</td>\n",
              "      <td>6</td>\n",
              "      <td>4</td>\n",
              "      <td>0</td>\n",
              "      <td>5</td>\n",
              "    </tr>\n",
              "    <tr>\n",
              "      <th>1</th>\n",
              "      <td>49</td>\n",
              "      <td>No</td>\n",
              "      <td>Travel_Frequently</td>\n",
              "      <td>279</td>\n",
              "      <td>Research &amp; Development</td>\n",
              "      <td>8</td>\n",
              "      <td>1</td>\n",
              "      <td>Life Sciences</td>\n",
              "      <td>1</td>\n",
              "      <td>2</td>\n",
              "      <td>...</td>\n",
              "      <td>4</td>\n",
              "      <td>80</td>\n",
              "      <td>1</td>\n",
              "      <td>10</td>\n",
              "      <td>3</td>\n",
              "      <td>3</td>\n",
              "      <td>10</td>\n",
              "      <td>7</td>\n",
              "      <td>1</td>\n",
              "      <td>7</td>\n",
              "    </tr>\n",
              "    <tr>\n",
              "      <th>2</th>\n",
              "      <td>37</td>\n",
              "      <td>Yes</td>\n",
              "      <td>Travel_Rarely</td>\n",
              "      <td>1373</td>\n",
              "      <td>Research &amp; Development</td>\n",
              "      <td>2</td>\n",
              "      <td>2</td>\n",
              "      <td>Other</td>\n",
              "      <td>1</td>\n",
              "      <td>4</td>\n",
              "      <td>...</td>\n",
              "      <td>2</td>\n",
              "      <td>80</td>\n",
              "      <td>0</td>\n",
              "      <td>7</td>\n",
              "      <td>3</td>\n",
              "      <td>3</td>\n",
              "      <td>0</td>\n",
              "      <td>0</td>\n",
              "      <td>0</td>\n",
              "      <td>0</td>\n",
              "    </tr>\n",
              "    <tr>\n",
              "      <th>3</th>\n",
              "      <td>33</td>\n",
              "      <td>No</td>\n",
              "      <td>Travel_Frequently</td>\n",
              "      <td>1392</td>\n",
              "      <td>Research &amp; Development</td>\n",
              "      <td>3</td>\n",
              "      <td>4</td>\n",
              "      <td>Life Sciences</td>\n",
              "      <td>1</td>\n",
              "      <td>5</td>\n",
              "      <td>...</td>\n",
              "      <td>3</td>\n",
              "      <td>80</td>\n",
              "      <td>0</td>\n",
              "      <td>8</td>\n",
              "      <td>3</td>\n",
              "      <td>3</td>\n",
              "      <td>8</td>\n",
              "      <td>7</td>\n",
              "      <td>3</td>\n",
              "      <td>0</td>\n",
              "    </tr>\n",
              "    <tr>\n",
              "      <th>4</th>\n",
              "      <td>27</td>\n",
              "      <td>No</td>\n",
              "      <td>Travel_Rarely</td>\n",
              "      <td>591</td>\n",
              "      <td>Research &amp; Development</td>\n",
              "      <td>2</td>\n",
              "      <td>1</td>\n",
              "      <td>Medical</td>\n",
              "      <td>1</td>\n",
              "      <td>7</td>\n",
              "      <td>...</td>\n",
              "      <td>4</td>\n",
              "      <td>80</td>\n",
              "      <td>1</td>\n",
              "      <td>6</td>\n",
              "      <td>3</td>\n",
              "      <td>3</td>\n",
              "      <td>2</td>\n",
              "      <td>2</td>\n",
              "      <td>2</td>\n",
              "      <td>2</td>\n",
              "    </tr>\n",
              "  </tbody>\n",
              "</table>\n",
              "<p>5 rows × 35 columns</p>\n",
              "</div>"
            ],
            "text/plain": [
              "   Age Attrition     BusinessTravel  DailyRate              Department  \\\n",
              "0   41       Yes      Travel_Rarely       1102                   Sales   \n",
              "1   49        No  Travel_Frequently        279  Research & Development   \n",
              "2   37       Yes      Travel_Rarely       1373  Research & Development   \n",
              "3   33        No  Travel_Frequently       1392  Research & Development   \n",
              "4   27        No      Travel_Rarely        591  Research & Development   \n",
              "\n",
              "   DistanceFromHome  Education EducationField  EmployeeCount  EmployeeNumber  \\\n",
              "0                 1          2  Life Sciences              1               1   \n",
              "1                 8          1  Life Sciences              1               2   \n",
              "2                 2          2          Other              1               4   \n",
              "3                 3          4  Life Sciences              1               5   \n",
              "4                 2          1        Medical              1               7   \n",
              "\n",
              "   ...  RelationshipSatisfaction StandardHours  StockOptionLevel  \\\n",
              "0  ...                         1            80                 0   \n",
              "1  ...                         4            80                 1   \n",
              "2  ...                         2            80                 0   \n",
              "3  ...                         3            80                 0   \n",
              "4  ...                         4            80                 1   \n",
              "\n",
              "   TotalWorkingYears  TrainingTimesLastYear WorkLifeBalance  YearsAtCompany  \\\n",
              "0                  8                      0               1               6   \n",
              "1                 10                      3               3              10   \n",
              "2                  7                      3               3               0   \n",
              "3                  8                      3               3               8   \n",
              "4                  6                      3               3               2   \n",
              "\n",
              "  YearsInCurrentRole  YearsSinceLastPromotion  YearsWithCurrManager  \n",
              "0                  4                        0                     5  \n",
              "1                  7                        1                     7  \n",
              "2                  0                        0                     0  \n",
              "3                  7                        3                     0  \n",
              "4                  2                        2                     2  \n",
              "\n",
              "[5 rows x 35 columns]"
            ]
          },
          "metadata": {},
          "output_type": "display_data"
        },
        {
          "name": "stdout",
          "output_type": "stream",
          "text": [
            "<class 'pandas.core.frame.DataFrame'>\n",
            "RangeIndex: 1470 entries, 0 to 1469\n",
            "Data columns (total 35 columns):\n",
            " #   Column                    Non-Null Count  Dtype \n",
            "---  ------                    --------------  ----- \n",
            " 0   Age                       1470 non-null   int64 \n",
            " 1   Attrition                 1470 non-null   object\n",
            " 2   BusinessTravel            1470 non-null   object\n",
            " 3   DailyRate                 1470 non-null   int64 \n",
            " 4   Department                1470 non-null   object\n",
            " 5   DistanceFromHome          1470 non-null   int64 \n",
            " 6   Education                 1470 non-null   int64 \n",
            " 7   EducationField            1470 non-null   object\n",
            " 8   EmployeeCount             1470 non-null   int64 \n",
            " 9   EmployeeNumber            1470 non-null   int64 \n",
            " 10  EnvironmentSatisfaction   1470 non-null   int64 \n",
            " 11  Gender                    1470 non-null   object\n",
            " 12  HourlyRate                1470 non-null   int64 \n",
            " 13  JobInvolvement            1470 non-null   int64 \n",
            " 14  JobLevel                  1470 non-null   int64 \n",
            " 15  JobRole                   1470 non-null   object\n",
            " 16  JobSatisfaction           1470 non-null   int64 \n",
            " 17  MaritalStatus             1470 non-null   object\n",
            " 18  MonthlyIncome             1470 non-null   int64 \n",
            " 19  MonthlyRate               1470 non-null   int64 \n",
            " 20  NumCompaniesWorked        1470 non-null   int64 \n",
            " 21  Over18                    1470 non-null   object\n",
            " 22  OverTime                  1470 non-null   object\n",
            " 23  PercentSalaryHike         1470 non-null   int64 \n",
            " 24  PerformanceRating         1470 non-null   int64 \n",
            " 25  RelationshipSatisfaction  1470 non-null   int64 \n",
            " 26  StandardHours             1470 non-null   int64 \n",
            " 27  StockOptionLevel          1470 non-null   int64 \n",
            " 28  TotalWorkingYears         1470 non-null   int64 \n",
            " 29  TrainingTimesLastYear     1470 non-null   int64 \n",
            " 30  WorkLifeBalance           1470 non-null   int64 \n",
            " 31  YearsAtCompany            1470 non-null   int64 \n",
            " 32  YearsInCurrentRole        1470 non-null   int64 \n",
            " 33  YearsSinceLastPromotion   1470 non-null   int64 \n",
            " 34  YearsWithCurrManager      1470 non-null   int64 \n",
            "dtypes: int64(26), object(9)\n",
            "memory usage: 402.1+ KB\n"
          ]
        }
      ],
      "source": [
        "employee_df = pd.read_excel('IBM-HR-Data-Employee-Attrition.xlsx')\n",
        "display(employee_df.head())\n",
        "employee_df.info()"
      ]
    },
    {
      "cell_type": "code",
      "execution_count": 4,
      "id": "107620e0-89ee-4f53-ac2e-dd0d03b15b66",
      "metadata": {
        "colab": {
          "base_uri": "https://localhost:8080/"
        },
        "id": "107620e0-89ee-4f53-ac2e-dd0d03b15b66",
        "outputId": "41ff7606-e935-400a-c031-427b463455ca"
      },
      "outputs": [
        {
          "data": {
            "text/plain": [
              "Age                         0\n",
              "Attrition                   0\n",
              "BusinessTravel              0\n",
              "DailyRate                   0\n",
              "Department                  0\n",
              "DistanceFromHome            0\n",
              "Education                   0\n",
              "EducationField              0\n",
              "EmployeeCount               0\n",
              "EmployeeNumber              0\n",
              "EnvironmentSatisfaction     0\n",
              "Gender                      0\n",
              "HourlyRate                  0\n",
              "JobInvolvement              0\n",
              "JobLevel                    0\n",
              "JobRole                     0\n",
              "JobSatisfaction             0\n",
              "MaritalStatus               0\n",
              "MonthlyIncome               0\n",
              "MonthlyRate                 0\n",
              "NumCompaniesWorked          0\n",
              "Over18                      0\n",
              "OverTime                    0\n",
              "PercentSalaryHike           0\n",
              "PerformanceRating           0\n",
              "RelationshipSatisfaction    0\n",
              "StandardHours               0\n",
              "StockOptionLevel            0\n",
              "TotalWorkingYears           0\n",
              "TrainingTimesLastYear       0\n",
              "WorkLifeBalance             0\n",
              "YearsAtCompany              0\n",
              "YearsInCurrentRole          0\n",
              "YearsSinceLastPromotion     0\n",
              "YearsWithCurrManager        0\n",
              "dtype: int64"
            ]
          },
          "execution_count": 4,
          "metadata": {},
          "output_type": "execute_result"
        }
      ],
      "source": [
        "employee_df.isna().sum()"
      ]
    },
    {
      "cell_type": "markdown",
      "id": "f3200837-3b0e-42f5-aac2-c2dc6dec3fd0",
      "metadata": {
        "id": "f3200837-3b0e-42f5-aac2-c2dc6dec3fd0"
      },
      "source": [
        "## Data cleaning and EDA\n",
        "\n",
        "We can now briefly explore our data. For now, we can observe that there are a zero NA values which will likely need imputation. We'll wait for this step so that we can put it within our training loop in case future data sets from IBM HR might have NA values. You are welcome to explore additional aspects of the data and build out 2-3 features on your own"
      ]
    },
    {
      "cell_type": "code",
      "execution_count": 5,
      "id": "ae42a8db-457d-4532-934b-b4be3e6ce33b",
      "metadata": {
        "colab": {
          "base_uri": "https://localhost:8080/"
        },
        "id": "ae42a8db-457d-4532-934b-b4be3e6ce33b",
        "outputId": "d7c3dd6e-99d9-4682-9821-02d9ce8f7287"
      },
      "outputs": [
        {
          "data": {
            "text/plain": [
              "(1470, 35)"
            ]
          },
          "execution_count": 5,
          "metadata": {},
          "output_type": "execute_result"
        }
      ],
      "source": [
        "employee_df = employee_df.dropna(subset=['Attrition'])\n",
        "employee_df.shape"
      ]
    },
    {
      "cell_type": "code",
      "execution_count": 6,
      "id": "02c5bb25-8c26-47b0-b53c-f352babdb717",
      "metadata": {
        "id": "02c5bb25-8c26-47b0-b53c-f352babdb717"
      },
      "outputs": [],
      "source": [
        "class_column = 'Attrition'\n",
        "random_seed = 2435\n",
        "\n",
        "X_train, X_test, y_train, y_test = train_test_split(employee_df.drop(columns=class_column), employee_df[class_column],\n",
        "                                                   test_size=0.25, random_state=random_seed, stratify=employee_df[class_column])"
      ]
    },
    {
      "cell_type": "markdown",
      "id": "9774a06c-3c40-48c0-8834-2570785a918f",
      "metadata": {
        "id": "9774a06c-3c40-48c0-8834-2570785a918f"
      },
      "source": [
        "Quick sanity check to make sure that everything seems correct:"
      ]
    },
    {
      "cell_type": "code",
      "execution_count": 7,
      "id": "2c32bbd1-5392-4281-a1a4-a38ed6dd6390",
      "metadata": {
        "colab": {
          "base_uri": "https://localhost:8080/",
          "height": 746
        },
        "id": "2c32bbd1-5392-4281-a1a4-a38ed6dd6390",
        "outputId": "224a7cce-ce84-4aa2-cb96-20a888ad2c37"
      },
      "outputs": [
        {
          "name": "stdout",
          "output_type": "stream",
          "text": [
            "On X train: \n",
            "X train dimensions:  (1102, 34)\n"
          ]
        },
        {
          "data": {
            "text/html": [
              "<div>\n",
              "<style scoped>\n",
              "    .dataframe tbody tr th:only-of-type {\n",
              "        vertical-align: middle;\n",
              "    }\n",
              "\n",
              "    .dataframe tbody tr th {\n",
              "        vertical-align: top;\n",
              "    }\n",
              "\n",
              "    .dataframe thead th {\n",
              "        text-align: right;\n",
              "    }\n",
              "</style>\n",
              "<table border=\"1\" class=\"dataframe\">\n",
              "  <thead>\n",
              "    <tr style=\"text-align: right;\">\n",
              "      <th></th>\n",
              "      <th>Age</th>\n",
              "      <th>BusinessTravel</th>\n",
              "      <th>DailyRate</th>\n",
              "      <th>Department</th>\n",
              "      <th>DistanceFromHome</th>\n",
              "      <th>Education</th>\n",
              "      <th>EducationField</th>\n",
              "      <th>EmployeeCount</th>\n",
              "      <th>EmployeeNumber</th>\n",
              "      <th>EnvironmentSatisfaction</th>\n",
              "      <th>...</th>\n",
              "      <th>RelationshipSatisfaction</th>\n",
              "      <th>StandardHours</th>\n",
              "      <th>StockOptionLevel</th>\n",
              "      <th>TotalWorkingYears</th>\n",
              "      <th>TrainingTimesLastYear</th>\n",
              "      <th>WorkLifeBalance</th>\n",
              "      <th>YearsAtCompany</th>\n",
              "      <th>YearsInCurrentRole</th>\n",
              "      <th>YearsSinceLastPromotion</th>\n",
              "      <th>YearsWithCurrManager</th>\n",
              "    </tr>\n",
              "  </thead>\n",
              "  <tbody>\n",
              "    <tr>\n",
              "      <th>1331</th>\n",
              "      <td>48</td>\n",
              "      <td>Travel_Rarely</td>\n",
              "      <td>1224</td>\n",
              "      <td>Research &amp; Development</td>\n",
              "      <td>10</td>\n",
              "      <td>3</td>\n",
              "      <td>Life Sciences</td>\n",
              "      <td>1</td>\n",
              "      <td>1867</td>\n",
              "      <td>4</td>\n",
              "      <td>...</td>\n",
              "      <td>4</td>\n",
              "      <td>80</td>\n",
              "      <td>0</td>\n",
              "      <td>29</td>\n",
              "      <td>3</td>\n",
              "      <td>3</td>\n",
              "      <td>22</td>\n",
              "      <td>10</td>\n",
              "      <td>12</td>\n",
              "      <td>9</td>\n",
              "    </tr>\n",
              "    <tr>\n",
              "      <th>485</th>\n",
              "      <td>27</td>\n",
              "      <td>Travel_Rarely</td>\n",
              "      <td>798</td>\n",
              "      <td>Research &amp; Development</td>\n",
              "      <td>6</td>\n",
              "      <td>4</td>\n",
              "      <td>Medical</td>\n",
              "      <td>1</td>\n",
              "      <td>655</td>\n",
              "      <td>1</td>\n",
              "      <td>...</td>\n",
              "      <td>3</td>\n",
              "      <td>80</td>\n",
              "      <td>2</td>\n",
              "      <td>6</td>\n",
              "      <td>5</td>\n",
              "      <td>2</td>\n",
              "      <td>5</td>\n",
              "      <td>3</td>\n",
              "      <td>0</td>\n",
              "      <td>3</td>\n",
              "    </tr>\n",
              "    <tr>\n",
              "      <th>1368</th>\n",
              "      <td>34</td>\n",
              "      <td>Travel_Frequently</td>\n",
              "      <td>735</td>\n",
              "      <td>Research &amp; Development</td>\n",
              "      <td>22</td>\n",
              "      <td>4</td>\n",
              "      <td>Other</td>\n",
              "      <td>1</td>\n",
              "      <td>1932</td>\n",
              "      <td>3</td>\n",
              "      <td>...</td>\n",
              "      <td>2</td>\n",
              "      <td>80</td>\n",
              "      <td>0</td>\n",
              "      <td>16</td>\n",
              "      <td>3</td>\n",
              "      <td>3</td>\n",
              "      <td>15</td>\n",
              "      <td>10</td>\n",
              "      <td>6</td>\n",
              "      <td>11</td>\n",
              "    </tr>\n",
              "    <tr>\n",
              "      <th>579</th>\n",
              "      <td>34</td>\n",
              "      <td>Travel_Rarely</td>\n",
              "      <td>121</td>\n",
              "      <td>Research &amp; Development</td>\n",
              "      <td>2</td>\n",
              "      <td>4</td>\n",
              "      <td>Medical</td>\n",
              "      <td>1</td>\n",
              "      <td>804</td>\n",
              "      <td>3</td>\n",
              "      <td>...</td>\n",
              "      <td>3</td>\n",
              "      <td>80</td>\n",
              "      <td>0</td>\n",
              "      <td>6</td>\n",
              "      <td>3</td>\n",
              "      <td>3</td>\n",
              "      <td>6</td>\n",
              "      <td>5</td>\n",
              "      <td>1</td>\n",
              "      <td>3</td>\n",
              "    </tr>\n",
              "    <tr>\n",
              "      <th>142</th>\n",
              "      <td>38</td>\n",
              "      <td>Travel_Rarely</td>\n",
              "      <td>364</td>\n",
              "      <td>Research &amp; Development</td>\n",
              "      <td>3</td>\n",
              "      <td>5</td>\n",
              "      <td>Technical Degree</td>\n",
              "      <td>1</td>\n",
              "      <td>193</td>\n",
              "      <td>4</td>\n",
              "      <td>...</td>\n",
              "      <td>2</td>\n",
              "      <td>80</td>\n",
              "      <td>0</td>\n",
              "      <td>19</td>\n",
              "      <td>2</td>\n",
              "      <td>3</td>\n",
              "      <td>3</td>\n",
              "      <td>2</td>\n",
              "      <td>2</td>\n",
              "      <td>2</td>\n",
              "    </tr>\n",
              "  </tbody>\n",
              "</table>\n",
              "<p>5 rows × 34 columns</p>\n",
              "</div>"
            ],
            "text/plain": [
              "      Age     BusinessTravel  DailyRate              Department  \\\n",
              "1331   48      Travel_Rarely       1224  Research & Development   \n",
              "485    27      Travel_Rarely        798  Research & Development   \n",
              "1368   34  Travel_Frequently        735  Research & Development   \n",
              "579    34      Travel_Rarely        121  Research & Development   \n",
              "142    38      Travel_Rarely        364  Research & Development   \n",
              "\n",
              "      DistanceFromHome  Education    EducationField  EmployeeCount  \\\n",
              "1331                10          3     Life Sciences              1   \n",
              "485                  6          4           Medical              1   \n",
              "1368                22          4             Other              1   \n",
              "579                  2          4           Medical              1   \n",
              "142                  3          5  Technical Degree              1   \n",
              "\n",
              "      EmployeeNumber  EnvironmentSatisfaction  ... RelationshipSatisfaction  \\\n",
              "1331            1867                        4  ...                        4   \n",
              "485              655                        1  ...                        3   \n",
              "1368            1932                        3  ...                        2   \n",
              "579              804                        3  ...                        3   \n",
              "142              193                        4  ...                        2   \n",
              "\n",
              "      StandardHours  StockOptionLevel  TotalWorkingYears  \\\n",
              "1331             80                 0                 29   \n",
              "485              80                 2                  6   \n",
              "1368             80                 0                 16   \n",
              "579              80                 0                  6   \n",
              "142              80                 0                 19   \n",
              "\n",
              "     TrainingTimesLastYear  WorkLifeBalance YearsAtCompany  \\\n",
              "1331                     3                3             22   \n",
              "485                      5                2              5   \n",
              "1368                     3                3             15   \n",
              "579                      3                3              6   \n",
              "142                      2                3              3   \n",
              "\n",
              "      YearsInCurrentRole  YearsSinceLastPromotion  YearsWithCurrManager  \n",
              "1331                  10                       12                     9  \n",
              "485                    3                        0                     3  \n",
              "1368                  10                        6                    11  \n",
              "579                    5                        1                     3  \n",
              "142                    2                        2                     2  \n",
              "\n",
              "[5 rows x 34 columns]"
            ]
          },
          "metadata": {},
          "output_type": "display_data"
        },
        {
          "name": "stdout",
          "output_type": "stream",
          "text": [
            "\n",
            "On X test: \n",
            "X test dimensions:  (368, 34)\n"
          ]
        },
        {
          "data": {
            "text/html": [
              "<div>\n",
              "<style scoped>\n",
              "    .dataframe tbody tr th:only-of-type {\n",
              "        vertical-align: middle;\n",
              "    }\n",
              "\n",
              "    .dataframe tbody tr th {\n",
              "        vertical-align: top;\n",
              "    }\n",
              "\n",
              "    .dataframe thead th {\n",
              "        text-align: right;\n",
              "    }\n",
              "</style>\n",
              "<table border=\"1\" class=\"dataframe\">\n",
              "  <thead>\n",
              "    <tr style=\"text-align: right;\">\n",
              "      <th></th>\n",
              "      <th>Age</th>\n",
              "      <th>BusinessTravel</th>\n",
              "      <th>DailyRate</th>\n",
              "      <th>Department</th>\n",
              "      <th>DistanceFromHome</th>\n",
              "      <th>Education</th>\n",
              "      <th>EducationField</th>\n",
              "      <th>EmployeeCount</th>\n",
              "      <th>EmployeeNumber</th>\n",
              "      <th>EnvironmentSatisfaction</th>\n",
              "      <th>...</th>\n",
              "      <th>RelationshipSatisfaction</th>\n",
              "      <th>StandardHours</th>\n",
              "      <th>StockOptionLevel</th>\n",
              "      <th>TotalWorkingYears</th>\n",
              "      <th>TrainingTimesLastYear</th>\n",
              "      <th>WorkLifeBalance</th>\n",
              "      <th>YearsAtCompany</th>\n",
              "      <th>YearsInCurrentRole</th>\n",
              "      <th>YearsSinceLastPromotion</th>\n",
              "      <th>YearsWithCurrManager</th>\n",
              "    </tr>\n",
              "  </thead>\n",
              "  <tbody>\n",
              "    <tr>\n",
              "      <th>129</th>\n",
              "      <td>49</td>\n",
              "      <td>Travel_Rarely</td>\n",
              "      <td>470</td>\n",
              "      <td>Research &amp; Development</td>\n",
              "      <td>20</td>\n",
              "      <td>4</td>\n",
              "      <td>Medical</td>\n",
              "      <td>1</td>\n",
              "      <td>170</td>\n",
              "      <td>3</td>\n",
              "      <td>...</td>\n",
              "      <td>3</td>\n",
              "      <td>80</td>\n",
              "      <td>0</td>\n",
              "      <td>16</td>\n",
              "      <td>2</td>\n",
              "      <td>2</td>\n",
              "      <td>15</td>\n",
              "      <td>11</td>\n",
              "      <td>5</td>\n",
              "      <td>11</td>\n",
              "    </tr>\n",
              "    <tr>\n",
              "      <th>1120</th>\n",
              "      <td>38</td>\n",
              "      <td>Travel_Rarely</td>\n",
              "      <td>437</td>\n",
              "      <td>Sales</td>\n",
              "      <td>16</td>\n",
              "      <td>3</td>\n",
              "      <td>Life Sciences</td>\n",
              "      <td>1</td>\n",
              "      <td>1583</td>\n",
              "      <td>2</td>\n",
              "      <td>...</td>\n",
              "      <td>2</td>\n",
              "      <td>80</td>\n",
              "      <td>0</td>\n",
              "      <td>8</td>\n",
              "      <td>5</td>\n",
              "      <td>4</td>\n",
              "      <td>3</td>\n",
              "      <td>2</td>\n",
              "      <td>1</td>\n",
              "      <td>2</td>\n",
              "    </tr>\n",
              "    <tr>\n",
              "      <th>3</th>\n",
              "      <td>33</td>\n",
              "      <td>Travel_Frequently</td>\n",
              "      <td>1392</td>\n",
              "      <td>Research &amp; Development</td>\n",
              "      <td>3</td>\n",
              "      <td>4</td>\n",
              "      <td>Life Sciences</td>\n",
              "      <td>1</td>\n",
              "      <td>5</td>\n",
              "      <td>4</td>\n",
              "      <td>...</td>\n",
              "      <td>3</td>\n",
              "      <td>80</td>\n",
              "      <td>0</td>\n",
              "      <td>8</td>\n",
              "      <td>3</td>\n",
              "      <td>3</td>\n",
              "      <td>8</td>\n",
              "      <td>7</td>\n",
              "      <td>3</td>\n",
              "      <td>0</td>\n",
              "    </tr>\n",
              "    <tr>\n",
              "      <th>965</th>\n",
              "      <td>25</td>\n",
              "      <td>Travel_Rarely</td>\n",
              "      <td>882</td>\n",
              "      <td>Research &amp; Development</td>\n",
              "      <td>19</td>\n",
              "      <td>1</td>\n",
              "      <td>Medical</td>\n",
              "      <td>1</td>\n",
              "      <td>1358</td>\n",
              "      <td>4</td>\n",
              "      <td>...</td>\n",
              "      <td>3</td>\n",
              "      <td>80</td>\n",
              "      <td>3</td>\n",
              "      <td>7</td>\n",
              "      <td>6</td>\n",
              "      <td>2</td>\n",
              "      <td>3</td>\n",
              "      <td>2</td>\n",
              "      <td>1</td>\n",
              "      <td>2</td>\n",
              "    </tr>\n",
              "    <tr>\n",
              "      <th>94</th>\n",
              "      <td>32</td>\n",
              "      <td>Travel_Rarely</td>\n",
              "      <td>1093</td>\n",
              "      <td>Sales</td>\n",
              "      <td>6</td>\n",
              "      <td>4</td>\n",
              "      <td>Medical</td>\n",
              "      <td>1</td>\n",
              "      <td>125</td>\n",
              "      <td>2</td>\n",
              "      <td>...</td>\n",
              "      <td>1</td>\n",
              "      <td>80</td>\n",
              "      <td>0</td>\n",
              "      <td>12</td>\n",
              "      <td>0</td>\n",
              "      <td>3</td>\n",
              "      <td>11</td>\n",
              "      <td>8</td>\n",
              "      <td>5</td>\n",
              "      <td>7</td>\n",
              "    </tr>\n",
              "  </tbody>\n",
              "</table>\n",
              "<p>5 rows × 34 columns</p>\n",
              "</div>"
            ],
            "text/plain": [
              "      Age     BusinessTravel  DailyRate              Department  \\\n",
              "129    49      Travel_Rarely        470  Research & Development   \n",
              "1120   38      Travel_Rarely        437                   Sales   \n",
              "3      33  Travel_Frequently       1392  Research & Development   \n",
              "965    25      Travel_Rarely        882  Research & Development   \n",
              "94     32      Travel_Rarely       1093                   Sales   \n",
              "\n",
              "      DistanceFromHome  Education EducationField  EmployeeCount  \\\n",
              "129                 20          4        Medical              1   \n",
              "1120                16          3  Life Sciences              1   \n",
              "3                    3          4  Life Sciences              1   \n",
              "965                 19          1        Medical              1   \n",
              "94                   6          4        Medical              1   \n",
              "\n",
              "      EmployeeNumber  EnvironmentSatisfaction  ... RelationshipSatisfaction  \\\n",
              "129              170                        3  ...                        3   \n",
              "1120            1583                        2  ...                        2   \n",
              "3                  5                        4  ...                        3   \n",
              "965             1358                        4  ...                        3   \n",
              "94               125                        2  ...                        1   \n",
              "\n",
              "      StandardHours  StockOptionLevel  TotalWorkingYears  \\\n",
              "129              80                 0                 16   \n",
              "1120             80                 0                  8   \n",
              "3                80                 0                  8   \n",
              "965              80                 3                  7   \n",
              "94               80                 0                 12   \n",
              "\n",
              "     TrainingTimesLastYear  WorkLifeBalance YearsAtCompany  \\\n",
              "129                      2                2             15   \n",
              "1120                     5                4              3   \n",
              "3                        3                3              8   \n",
              "965                      6                2              3   \n",
              "94                       0                3             11   \n",
              "\n",
              "      YearsInCurrentRole  YearsSinceLastPromotion  YearsWithCurrManager  \n",
              "129                   11                        5                    11  \n",
              "1120                   2                        1                     2  \n",
              "3                      7                        3                     0  \n",
              "965                    2                        1                     2  \n",
              "94                     8                        5                     7  \n",
              "\n",
              "[5 rows x 34 columns]"
            ]
          },
          "metadata": {},
          "output_type": "display_data"
        }
      ],
      "source": [
        "# X Train\n",
        "print('On X train: ')\n",
        "print('X train dimensions: ', X_train.shape)\n",
        "display(X_train.head())\n",
        "\n",
        "# X test\n",
        "print('\\nOn X test: ')\n",
        "print('X test dimensions: ', X_test.shape)\n",
        "display(X_test.head())"
      ]
    },
    {
      "cell_type": "code",
      "execution_count": 8,
      "id": "113d1ab3-739a-4e42-8500-92b6332b2475",
      "metadata": {
        "colab": {
          "base_uri": "https://localhost:8080/",
          "height": 321
        },
        "id": "113d1ab3-739a-4e42-8500-92b6332b2475",
        "outputId": "732a2009-3463-4653-c28b-8b5d5fe74ccd"
      },
      "outputs": [
        {
          "name": "stdout",
          "output_type": "stream",
          "text": [
            "On y train: \n",
            "y train dimensions:  (1102,)\n"
          ]
        },
        {
          "data": {
            "text/plain": [
              "1331    No\n",
              "485     No\n",
              "1368    No\n",
              "579     No\n",
              "142     No\n",
              "Name: Attrition, dtype: object"
            ]
          },
          "metadata": {},
          "output_type": "display_data"
        },
        {
          "name": "stdout",
          "output_type": "stream",
          "text": [
            "\n",
            "On y test: \n",
            "y test dimensions:  (368,)\n"
          ]
        },
        {
          "data": {
            "text/plain": [
              "129     No\n",
              "1120    No\n",
              "3       No\n",
              "965     No\n",
              "94      No\n",
              "Name: Attrition, dtype: object"
            ]
          },
          "metadata": {},
          "output_type": "display_data"
        }
      ],
      "source": [
        "# X Train\n",
        "print('On y train: ')\n",
        "print('y train dimensions: ', y_train.shape)\n",
        "display(y_train.head())\n",
        "\n",
        "# X test\n",
        "print('\\nOn y test: ')\n",
        "print('y test dimensions: ', y_test.shape)\n",
        "display(y_test.head())"
      ]
    },
    {
      "cell_type": "markdown",
      "id": "6a76f5d1-05a4-4f81-8608-099b3b20abef",
      "metadata": {
        "id": "6a76f5d1-05a4-4f81-8608-099b3b20abef"
      },
      "source": [
        "## Establish the training pipeline\n",
        "\n",
        "We can now establish the training pipeline for our models. Since this is a process we would need to repeat several times, it's good to essentially functionalize the process so we do not need to re-write redundant code. Here, we can impute some values that were missing, and encode any categorical values. Note that these pipelines will change according to the model and methodology you choose - additionally, the pipelines will also change depending on the data types of the columns in your dataset. "
      ]
    },
    {
      "cell_type": "code",
      "execution_count": 9,
      "id": "9ed44830-4039-4564-bde0-2b6661d672c5",
      "metadata": {
        "id": "9ed44830-4039-4564-bde0-2b6661d672c5"
      },
      "outputs": [],
      "source": [
        "# TODO: establish your own pipelines for the different data types\n",
        "cat_pipeline = Pipeline(steps=[('cat_impute', SimpleImputer(missing_values=np.nan, strategy='most_frequent')),\n",
        "                               ('onehot_cat', OneHotEncoder(drop='if_binary'))])\n",
        "\n",
        "num_pipeline = Pipeline(steps=[('impute_num', SimpleImputer(missing_values=np.nan, strategy='mean')),\n",
        "                               ('scale_num', StandardScaler())])\n"
      ]
    },
    {
      "cell_type": "code",
      "execution_count": 10,
      "id": "242c958a-894d-4259-9dfd-387ddf541144",
      "metadata": {
        "id": "242c958a-894d-4259-9dfd-387ddf541144"
      },
      "outputs": [],
      "source": [
        "# TODO: establish your preprocessing pipeline by your feature set\n",
        "\n",
        "preproc = ColumnTransformer([('cat_pipe', cat_pipeline, make_column_selector(dtype_include=object)),\n",
        "                             ('num_pipe', num_pipeline, make_column_selector(dtype_include=np.number))],\n",
        "                             remainder='passthrough')\n"
      ]
    },
    {
      "cell_type": "code",
      "execution_count": 11,
      "id": "917a7dae-35ff-43b2-8186-dbe731d0f08d",
      "metadata": {
        "id": "917a7dae-35ff-43b2-8186-dbe731d0f08d"
      },
      "outputs": [],
      "source": [
        "# TODO: set up your modeling pipeline\n",
        "\n",
        "\n",
        "lr_pipe = Pipeline(steps=[('preproc', preproc),\n",
        "                       ('mdl', LogisticRegression(penalty='elasticnet', solver='saga', tol=0.01))])\n",
        "\n",
        "rf_pipe = Pipeline(steps=[('preproc', preproc),\n",
        "                       ('mdl', RandomForestClassifier())])\n",
        "\n",
        "gb_pipe = Pipeline(steps=[('preproc', preproc),\n",
        "                       ('mdl', GradientBoostingClassifier())])\n",
        "                       \n",
        "# Feel free to uncomment and edit the code below to visualize your overall pieline\n",
        "# with config_context(display='diagram'):\n",
        "#     display(your_pipeline_name)"
      ]
    },
    {
      "cell_type": "markdown",
      "id": "32517c21-62d6-4d8c-81ad-aa08a3199ff3",
      "metadata": {
        "id": "32517c21-62d6-4d8c-81ad-aa08a3199ff3"
      },
      "source": [
        "## Cross-validation with hyperparameter tuning\n",
        "\n",
        "Now that we have our pipelines, we can now use this as part of cross validation and hyperparameter tuning."
      ]
    },
    {
      "cell_type": "code",
      "execution_count": 14,
      "id": "f94e90d0-7785-48f4-a0cd-ff37090a92d9",
      "metadata": {
        "id": "f94e90d0-7785-48f4-a0cd-ff37090a92d9"
      },
      "outputs": [],
      "source": [
        "# TODO: set up your tuning grid \n",
        "lr_grid = {\n",
        "    'mdl__l1_ratio' : np.linspace(0,1,5),\n",
        "    'mdl__C': np.logspace(-1, 6, 3) \n",
        "}\n",
        "\n",
        "rf_grid = {\n",
        "    'mdl__n_estimators' : [10, 50, 100],\n",
        "    'mdl__max_depth' : [1, 5, 10],\n",
        "}\n",
        "\n",
        "gb_grid = {\n",
        "    'mdl__n_estimators' : [10, 50, 100],\n",
        "    'mdl__max_depth' : [1, 5, 10],\n",
        "}\n",
        "\n",
        "lr_search = GridSearchCV(lr_pipe, param_grid = lr_grid, cv = 5, return_train_score=True)\n",
        "rf_search = GridSearchCV(rf_pipe, param_grid = rf_grid, cv = 5, return_train_score=True)\n",
        "gb_search = GridSearchCV(gb_pipe, param_grid = gb_grid, cv = 5, return_train_score=True)\n"
      ]
    },
    {
      "cell_type": "code",
      "execution_count": 15,
      "id": "e8f2cb02-c5eb-4fd4-9331-050191081014",
      "metadata": {
        "id": "e8f2cb02-c5eb-4fd4-9331-050191081014"
      },
      "outputs": [
        {
          "data": {
            "text/html": [
              "<style>#sk-container-id-1 {color: black;background-color: white;}#sk-container-id-1 pre{padding: 0;}#sk-container-id-1 div.sk-toggleable {background-color: white;}#sk-container-id-1 label.sk-toggleable__label {cursor: pointer;display: block;width: 100%;margin-bottom: 0;padding: 0.3em;box-sizing: border-box;text-align: center;}#sk-container-id-1 label.sk-toggleable__label-arrow:before {content: \"▸\";float: left;margin-right: 0.25em;color: #696969;}#sk-container-id-1 label.sk-toggleable__label-arrow:hover:before {color: black;}#sk-container-id-1 div.sk-estimator:hover label.sk-toggleable__label-arrow:before {color: black;}#sk-container-id-1 div.sk-toggleable__content {max-height: 0;max-width: 0;overflow: hidden;text-align: left;background-color: #f0f8ff;}#sk-container-id-1 div.sk-toggleable__content pre {margin: 0.2em;color: black;border-radius: 0.25em;background-color: #f0f8ff;}#sk-container-id-1 input.sk-toggleable__control:checked~div.sk-toggleable__content {max-height: 200px;max-width: 100%;overflow: auto;}#sk-container-id-1 input.sk-toggleable__control:checked~label.sk-toggleable__label-arrow:before {content: \"▾\";}#sk-container-id-1 div.sk-estimator input.sk-toggleable__control:checked~label.sk-toggleable__label {background-color: #d4ebff;}#sk-container-id-1 div.sk-label input.sk-toggleable__control:checked~label.sk-toggleable__label {background-color: #d4ebff;}#sk-container-id-1 input.sk-hidden--visually {border: 0;clip: rect(1px 1px 1px 1px);clip: rect(1px, 1px, 1px, 1px);height: 1px;margin: -1px;overflow: hidden;padding: 0;position: absolute;width: 1px;}#sk-container-id-1 div.sk-estimator {font-family: monospace;background-color: #f0f8ff;border: 1px dotted black;border-radius: 0.25em;box-sizing: border-box;margin-bottom: 0.5em;}#sk-container-id-1 div.sk-estimator:hover {background-color: #d4ebff;}#sk-container-id-1 div.sk-parallel-item::after {content: \"\";width: 100%;border-bottom: 1px solid gray;flex-grow: 1;}#sk-container-id-1 div.sk-label:hover label.sk-toggleable__label {background-color: #d4ebff;}#sk-container-id-1 div.sk-serial::before {content: \"\";position: absolute;border-left: 1px solid gray;box-sizing: border-box;top: 0;bottom: 0;left: 50%;z-index: 0;}#sk-container-id-1 div.sk-serial {display: flex;flex-direction: column;align-items: center;background-color: white;padding-right: 0.2em;padding-left: 0.2em;position: relative;}#sk-container-id-1 div.sk-item {position: relative;z-index: 1;}#sk-container-id-1 div.sk-parallel {display: flex;align-items: stretch;justify-content: center;background-color: white;position: relative;}#sk-container-id-1 div.sk-item::before, #sk-container-id-1 div.sk-parallel-item::before {content: \"\";position: absolute;border-left: 1px solid gray;box-sizing: border-box;top: 0;bottom: 0;left: 50%;z-index: -1;}#sk-container-id-1 div.sk-parallel-item {display: flex;flex-direction: column;z-index: 1;position: relative;background-color: white;}#sk-container-id-1 div.sk-parallel-item:first-child::after {align-self: flex-end;width: 50%;}#sk-container-id-1 div.sk-parallel-item:last-child::after {align-self: flex-start;width: 50%;}#sk-container-id-1 div.sk-parallel-item:only-child::after {width: 0;}#sk-container-id-1 div.sk-dashed-wrapped {border: 1px dashed gray;margin: 0 0.4em 0.5em 0.4em;box-sizing: border-box;padding-bottom: 0.4em;background-color: white;}#sk-container-id-1 div.sk-label label {font-family: monospace;font-weight: bold;display: inline-block;line-height: 1.2em;}#sk-container-id-1 div.sk-label-container {text-align: center;}#sk-container-id-1 div.sk-container {/* jupyter's `normalize.less` sets `[hidden] { display: none; }` but bootstrap.min.css set `[hidden] { display: none !important; }` so we also need the `!important` here to be able to override the default hidden behavior on the sphinx rendered scikit-learn.org. See: https://github.com/scikit-learn/scikit-learn/issues/21755 */display: inline-block !important;position: relative;}#sk-container-id-1 div.sk-text-repr-fallback {display: none;}</style><div id=\"sk-container-id-1\" class=\"sk-top-container\"><div class=\"sk-text-repr-fallback\"><pre>GridSearchCV(cv=5,\n",
              "             estimator=Pipeline(steps=[(&#x27;preproc&#x27;,\n",
              "                                        ColumnTransformer(remainder=&#x27;passthrough&#x27;,\n",
              "                                                          transformers=[(&#x27;cat_pipe&#x27;,\n",
              "                                                                         Pipeline(steps=[(&#x27;cat_impute&#x27;,\n",
              "                                                                                          SimpleImputer(strategy=&#x27;most_frequent&#x27;)),\n",
              "                                                                                         (&#x27;onehot_cat&#x27;,\n",
              "                                                                                          OneHotEncoder(drop=&#x27;if_binary&#x27;))]),\n",
              "                                                                         &lt;sklearn.compose._column_transformer.make_column_selector object at 0x14e5d5240&gt;),\n",
              "                                                                        (&#x27;num_pipe&#x27;,\n",
              "                                                                         Pipeline(steps=[(&#x27;impute_num&#x27;,\n",
              "                                                                                          SimpleImputer()),\n",
              "                                                                                         (&#x27;scale_num&#x27;,\n",
              "                                                                                          StandardScaler())]),\n",
              "                                                                         &lt;sklearn.compose._column_transformer.make_column_selector object at 0x14e5d5360&gt;)])),\n",
              "                                       (&#x27;mdl&#x27;, GradientBoostingClassifier())]),\n",
              "             param_grid={&#x27;mdl__max_depth&#x27;: [1, 5, 10],\n",
              "                         &#x27;mdl__n_estimators&#x27;: [10, 50, 100]},\n",
              "             return_train_score=True)</pre><b>In a Jupyter environment, please rerun this cell to show the HTML representation or trust the notebook. <br />On GitHub, the HTML representation is unable to render, please try loading this page with nbviewer.org.</b></div><div class=\"sk-container\" hidden><div class=\"sk-item sk-dashed-wrapped\"><div class=\"sk-label-container\"><div class=\"sk-label sk-toggleable\"><input class=\"sk-toggleable__control sk-hidden--visually\" id=\"sk-estimator-id-1\" type=\"checkbox\" ><label for=\"sk-estimator-id-1\" class=\"sk-toggleable__label sk-toggleable__label-arrow\">GridSearchCV</label><div class=\"sk-toggleable__content\"><pre>GridSearchCV(cv=5,\n",
              "             estimator=Pipeline(steps=[(&#x27;preproc&#x27;,\n",
              "                                        ColumnTransformer(remainder=&#x27;passthrough&#x27;,\n",
              "                                                          transformers=[(&#x27;cat_pipe&#x27;,\n",
              "                                                                         Pipeline(steps=[(&#x27;cat_impute&#x27;,\n",
              "                                                                                          SimpleImputer(strategy=&#x27;most_frequent&#x27;)),\n",
              "                                                                                         (&#x27;onehot_cat&#x27;,\n",
              "                                                                                          OneHotEncoder(drop=&#x27;if_binary&#x27;))]),\n",
              "                                                                         &lt;sklearn.compose._column_transformer.make_column_selector object at 0x14e5d5240&gt;),\n",
              "                                                                        (&#x27;num_pipe&#x27;,\n",
              "                                                                         Pipeline(steps=[(&#x27;impute_num&#x27;,\n",
              "                                                                                          SimpleImputer()),\n",
              "                                                                                         (&#x27;scale_num&#x27;,\n",
              "                                                                                          StandardScaler())]),\n",
              "                                                                         &lt;sklearn.compose._column_transformer.make_column_selector object at 0x14e5d5360&gt;)])),\n",
              "                                       (&#x27;mdl&#x27;, GradientBoostingClassifier())]),\n",
              "             param_grid={&#x27;mdl__max_depth&#x27;: [1, 5, 10],\n",
              "                         &#x27;mdl__n_estimators&#x27;: [10, 50, 100]},\n",
              "             return_train_score=True)</pre></div></div></div><div class=\"sk-parallel\"><div class=\"sk-parallel-item\"><div class=\"sk-item\"><div class=\"sk-label-container\"><div class=\"sk-label sk-toggleable\"><input class=\"sk-toggleable__control sk-hidden--visually\" id=\"sk-estimator-id-2\" type=\"checkbox\" ><label for=\"sk-estimator-id-2\" class=\"sk-toggleable__label sk-toggleable__label-arrow\">estimator: Pipeline</label><div class=\"sk-toggleable__content\"><pre>Pipeline(steps=[(&#x27;preproc&#x27;,\n",
              "                 ColumnTransformer(remainder=&#x27;passthrough&#x27;,\n",
              "                                   transformers=[(&#x27;cat_pipe&#x27;,\n",
              "                                                  Pipeline(steps=[(&#x27;cat_impute&#x27;,\n",
              "                                                                   SimpleImputer(strategy=&#x27;most_frequent&#x27;)),\n",
              "                                                                  (&#x27;onehot_cat&#x27;,\n",
              "                                                                   OneHotEncoder(drop=&#x27;if_binary&#x27;))]),\n",
              "                                                  &lt;sklearn.compose._column_transformer.make_column_selector object at 0x14e5d5240&gt;),\n",
              "                                                 (&#x27;num_pipe&#x27;,\n",
              "                                                  Pipeline(steps=[(&#x27;impute_num&#x27;,\n",
              "                                                                   SimpleImputer()),\n",
              "                                                                  (&#x27;scale_num&#x27;,\n",
              "                                                                   StandardScaler())]),\n",
              "                                                  &lt;sklearn.compose._column_transformer.make_column_selector object at 0x14e5d5360&gt;)])),\n",
              "                (&#x27;mdl&#x27;, GradientBoostingClassifier())])</pre></div></div></div><div class=\"sk-serial\"><div class=\"sk-item\"><div class=\"sk-serial\"><div class=\"sk-item sk-dashed-wrapped\"><div class=\"sk-label-container\"><div class=\"sk-label sk-toggleable\"><input class=\"sk-toggleable__control sk-hidden--visually\" id=\"sk-estimator-id-3\" type=\"checkbox\" ><label for=\"sk-estimator-id-3\" class=\"sk-toggleable__label sk-toggleable__label-arrow\">preproc: ColumnTransformer</label><div class=\"sk-toggleable__content\"><pre>ColumnTransformer(remainder=&#x27;passthrough&#x27;,\n",
              "                  transformers=[(&#x27;cat_pipe&#x27;,\n",
              "                                 Pipeline(steps=[(&#x27;cat_impute&#x27;,\n",
              "                                                  SimpleImputer(strategy=&#x27;most_frequent&#x27;)),\n",
              "                                                 (&#x27;onehot_cat&#x27;,\n",
              "                                                  OneHotEncoder(drop=&#x27;if_binary&#x27;))]),\n",
              "                                 &lt;sklearn.compose._column_transformer.make_column_selector object at 0x14e5d5240&gt;),\n",
              "                                (&#x27;num_pipe&#x27;,\n",
              "                                 Pipeline(steps=[(&#x27;impute_num&#x27;,\n",
              "                                                  SimpleImputer()),\n",
              "                                                 (&#x27;scale_num&#x27;,\n",
              "                                                  StandardScaler())]),\n",
              "                                 &lt;sklearn.compose._column_transformer.make_column_selector object at 0x14e5d5360&gt;)])</pre></div></div></div><div class=\"sk-parallel\"><div class=\"sk-parallel-item\"><div class=\"sk-item\"><div class=\"sk-label-container\"><div class=\"sk-label sk-toggleable\"><input class=\"sk-toggleable__control sk-hidden--visually\" id=\"sk-estimator-id-4\" type=\"checkbox\" ><label for=\"sk-estimator-id-4\" class=\"sk-toggleable__label sk-toggleable__label-arrow\">cat_pipe</label><div class=\"sk-toggleable__content\"><pre>&lt;sklearn.compose._column_transformer.make_column_selector object at 0x14e5d5240&gt;</pre></div></div></div><div class=\"sk-serial\"><div class=\"sk-item\"><div class=\"sk-serial\"><div class=\"sk-item\"><div class=\"sk-estimator sk-toggleable\"><input class=\"sk-toggleable__control sk-hidden--visually\" id=\"sk-estimator-id-5\" type=\"checkbox\" ><label for=\"sk-estimator-id-5\" class=\"sk-toggleable__label sk-toggleable__label-arrow\">SimpleImputer</label><div class=\"sk-toggleable__content\"><pre>SimpleImputer(strategy=&#x27;most_frequent&#x27;)</pre></div></div></div><div class=\"sk-item\"><div class=\"sk-estimator sk-toggleable\"><input class=\"sk-toggleable__control sk-hidden--visually\" id=\"sk-estimator-id-6\" type=\"checkbox\" ><label for=\"sk-estimator-id-6\" class=\"sk-toggleable__label sk-toggleable__label-arrow\">OneHotEncoder</label><div class=\"sk-toggleable__content\"><pre>OneHotEncoder(drop=&#x27;if_binary&#x27;)</pre></div></div></div></div></div></div></div></div><div class=\"sk-parallel-item\"><div class=\"sk-item\"><div class=\"sk-label-container\"><div class=\"sk-label sk-toggleable\"><input class=\"sk-toggleable__control sk-hidden--visually\" id=\"sk-estimator-id-7\" type=\"checkbox\" ><label for=\"sk-estimator-id-7\" class=\"sk-toggleable__label sk-toggleable__label-arrow\">num_pipe</label><div class=\"sk-toggleable__content\"><pre>&lt;sklearn.compose._column_transformer.make_column_selector object at 0x14e5d5360&gt;</pre></div></div></div><div class=\"sk-serial\"><div class=\"sk-item\"><div class=\"sk-serial\"><div class=\"sk-item\"><div class=\"sk-estimator sk-toggleable\"><input class=\"sk-toggleable__control sk-hidden--visually\" id=\"sk-estimator-id-8\" type=\"checkbox\" ><label for=\"sk-estimator-id-8\" class=\"sk-toggleable__label sk-toggleable__label-arrow\">SimpleImputer</label><div class=\"sk-toggleable__content\"><pre>SimpleImputer()</pre></div></div></div><div class=\"sk-item\"><div class=\"sk-estimator sk-toggleable\"><input class=\"sk-toggleable__control sk-hidden--visually\" id=\"sk-estimator-id-9\" type=\"checkbox\" ><label for=\"sk-estimator-id-9\" class=\"sk-toggleable__label sk-toggleable__label-arrow\">StandardScaler</label><div class=\"sk-toggleable__content\"><pre>StandardScaler()</pre></div></div></div></div></div></div></div></div><div class=\"sk-parallel-item\"><div class=\"sk-item\"><div class=\"sk-label-container\"><div class=\"sk-label sk-toggleable\"><input class=\"sk-toggleable__control sk-hidden--visually\" id=\"sk-estimator-id-10\" type=\"checkbox\" ><label for=\"sk-estimator-id-10\" class=\"sk-toggleable__label sk-toggleable__label-arrow\">remainder</label><div class=\"sk-toggleable__content\"><pre></pre></div></div></div><div class=\"sk-serial\"><div class=\"sk-item\"><div class=\"sk-estimator sk-toggleable\"><input class=\"sk-toggleable__control sk-hidden--visually\" id=\"sk-estimator-id-11\" type=\"checkbox\" ><label for=\"sk-estimator-id-11\" class=\"sk-toggleable__label sk-toggleable__label-arrow\">passthrough</label><div class=\"sk-toggleable__content\"><pre>passthrough</pre></div></div></div></div></div></div></div></div><div class=\"sk-item\"><div class=\"sk-estimator sk-toggleable\"><input class=\"sk-toggleable__control sk-hidden--visually\" id=\"sk-estimator-id-12\" type=\"checkbox\" ><label for=\"sk-estimator-id-12\" class=\"sk-toggleable__label sk-toggleable__label-arrow\">GradientBoostingClassifier</label><div class=\"sk-toggleable__content\"><pre>GradientBoostingClassifier()</pre></div></div></div></div></div></div></div></div></div></div></div></div>"
            ],
            "text/plain": [
              "GridSearchCV(cv=5,\n",
              "             estimator=Pipeline(steps=[('preproc',\n",
              "                                        ColumnTransformer(remainder='passthrough',\n",
              "                                                          transformers=[('cat_pipe',\n",
              "                                                                         Pipeline(steps=[('cat_impute',\n",
              "                                                                                          SimpleImputer(strategy='most_frequent')),\n",
              "                                                                                         ('onehot_cat',\n",
              "                                                                                          OneHotEncoder(drop='if_binary'))]),\n",
              "                                                                         <sklearn.compose._column_transformer.make_column_selector object at 0x14e5d5240>),\n",
              "                                                                        ('num_pipe',\n",
              "                                                                         Pipeline(steps=[('impute_num',\n",
              "                                                                                          SimpleImputer()),\n",
              "                                                                                         ('scale_num',\n",
              "                                                                                          StandardScaler())]),\n",
              "                                                                         <sklearn.compose._column_transformer.make_column_selector object at 0x14e5d5360>)])),\n",
              "                                       ('mdl', GradientBoostingClassifier())]),\n",
              "             param_grid={'mdl__max_depth': [1, 5, 10],\n",
              "                         'mdl__n_estimators': [10, 50, 100]},\n",
              "             return_train_score=True)"
            ]
          },
          "execution_count": 15,
          "metadata": {},
          "output_type": "execute_result"
        }
      ],
      "source": [
        "# TODO: fit your model\n",
        "\n",
        "lr_search.fit(X_train, y_train)\n",
        "rf_search.fit(X_train, y_train)\n",
        "gb_search.fit(X_train, y_train)\n"
      ]
    },
    {
      "cell_type": "code",
      "execution_count": 20,
      "id": "69f4874e-0de3-462f-95ef-d01ba648f7a4",
      "metadata": {
        "id": "69f4874e-0de3-462f-95ef-d01ba648f7a4"
      },
      "outputs": [],
      "source": [
        "# TODO: find the best performing model parameters and their values\n",
        "\n",
        "best_lr = lr_search.best_estimator_\n",
        "best_rf = rf_search.best_estimator_\n",
        "best_gb = gb_search.best_estimator_\n"
      ]
    },
    {
      "cell_type": "markdown",
      "id": "289be208-bf90-4699-951e-b09a0289aa9d",
      "metadata": {
        "id": "289be208-bf90-4699-951e-b09a0289aa9d"
      },
      "source": [
        "## Final fit\n",
        "\n",
        "The final fit here is already present in the generated model due to the way we set our parameters in the grid search. If we want to look at the performance, we can do so. Here is a non-helpful description of the best model:"
      ]
    },
    {
      "cell_type": "code",
      "execution_count": 21,
      "id": "9a0c404f-514c-4f2c-98c9-506ca8ca1c46",
      "metadata": {
        "id": "9a0c404f-514c-4f2c-98c9-506ca8ca1c46"
      },
      "outputs": [
        {
          "name": "stdout",
          "output_type": "stream",
          "text": [
            "Pipeline(steps=[('preproc',\n",
            "                 ColumnTransformer(remainder='passthrough',\n",
            "                                   transformers=[('cat_pipe',\n",
            "                                                  Pipeline(steps=[('cat_impute',\n",
            "                                                                   SimpleImputer(strategy='most_frequent')),\n",
            "                                                                  ('onehot_cat',\n",
            "                                                                   OneHotEncoder(drop='if_binary'))]),\n",
            "                                                  <sklearn.compose._column_transformer.make_column_selector object at 0x14f08b250>),\n",
            "                                                 ('num_pipe',\n",
            "                                                  Pipeline(steps=[('impute_num',\n",
            "                                                                   SimpleImputer()),\n",
            "                                                                  ('scale_num',\n",
            "                                                                   StandardScaler())]),\n",
            "                                                  <sklearn.compose._column_transformer.make_column_selector object at 0x14f08a2c0>)])),\n",
            "                ('mdl',\n",
            "                 LogisticRegression(C=0.1, l1_ratio=0.0, penalty='elasticnet',\n",
            "                                    solver='saga', tol=0.01))])\n",
            "Pipeline(steps=[('preproc',\n",
            "                 ColumnTransformer(remainder='passthrough',\n",
            "                                   transformers=[('cat_pipe',\n",
            "                                                  Pipeline(steps=[('cat_impute',\n",
            "                                                                   SimpleImputer(strategy='most_frequent')),\n",
            "                                                                  ('onehot_cat',\n",
            "                                                                   OneHotEncoder(drop='if_binary'))]),\n",
            "                                                  <sklearn.compose._column_transformer.make_column_selector object at 0x14f08b010>),\n",
            "                                                 ('num_pipe',\n",
            "                                                  Pipeline(steps=[('impute_num',\n",
            "                                                                   SimpleImputer()),\n",
            "                                                                  ('scale_num',\n",
            "                                                                   StandardScaler())]),\n",
            "                                                  <sklearn.compose._column_transformer.make_column_selector object at 0x14f08ac50>)])),\n",
            "                ('mdl', RandomForestClassifier(max_depth=10))])\n",
            "Pipeline(steps=[('preproc',\n",
            "                 ColumnTransformer(remainder='passthrough',\n",
            "                                   transformers=[('cat_pipe',\n",
            "                                                  Pipeline(steps=[('cat_impute',\n",
            "                                                                   SimpleImputer(strategy='most_frequent')),\n",
            "                                                                  ('onehot_cat',\n",
            "                                                                   OneHotEncoder(drop='if_binary'))]),\n",
            "                                                  <sklearn.compose._column_transformer.make_column_selector object at 0x14f4066b0>),\n",
            "                                                 ('num_pipe',\n",
            "                                                  Pipeline(steps=[('impute_num',\n",
            "                                                                   SimpleImputer()),\n",
            "                                                                  ('scale_num',\n",
            "                                                                   StandardScaler())]),\n",
            "                                                  <sklearn.compose._column_transformer.make_column_selector object at 0x14f407ac0>)])),\n",
            "                ('mdl',\n",
            "                 GradientBoostingClassifier(max_depth=5, n_estimators=50))])\n"
          ]
        }
      ],
      "source": [
        "# TODO: print your best estimator (pipeline)\n",
        "\n",
        "print(best_lr)\n",
        "print(best_rf)\n",
        "print(best_gb)"
      ]
    },
    {
      "cell_type": "markdown",
      "id": "3feb06cf-bf30-4383-9449-4153c0fa996e",
      "metadata": {
        "id": "3feb06cf-bf30-4383-9449-4153c0fa996e"
      },
      "source": [
        "## Variable importance\n",
        "\n",
        "Now we assess the importance in the selected model to reveal any potential insights."
      ]
    },
    {
      "cell_type": "code",
      "execution_count": 22,
      "id": "e4a10aec",
      "metadata": {},
      "outputs": [],
      "source": [
        "def variable_importance(model):\n",
        "\n",
        "    model.classes_\n",
        "\n",
        "    vip = model['mdl'].coef_[0]\n",
        "    vip\n",
        "\n",
        "    #get names in correct preproc order\n",
        "    cat_names = model.named_steps['preproc'].transformers_[0][1].named_steps['onehot_cat'].get_feature_names()\n",
        "    num_names = model.named_steps['preproc'].transformers_[1][2]\n",
        "\n",
        "    #create df with vip info\n",
        "    coef_info = pd.DataFrame({'feat_names':np.hstack([cat_names, num_names]), 'vip': vip})\n",
        "\n",
        "    #get sign and magnitude information\n",
        "    coef_info = coef_info.assign(coef_mag = abs(coef_info['vip']),\n",
        "                                 coef_sign = np.sign(coef_info['vip']))\n",
        "\n",
        "    #sort and plot\n",
        "    coef_info = coef_info.set_index('feat_names').sort_values(by='coef_mag', ascending=False)\n",
        "    plt.figure(figsize = (20,10))\n",
        "    sns.barplot(y=coef_info.index, x='coef_mag', hue='coef_sign', data=coef_info, orient='h', dodge=False)"
      ]
    },
    {
      "cell_type": "code",
      "execution_count": 25,
      "id": "e1882727",
      "metadata": {},
      "outputs": [
        {
          "name": "stderr",
          "output_type": "stream",
          "text": [
            "/Users/henrygilbert/miniconda3/envs/ml-class/lib/python3.10/site-packages/sklearn/utils/deprecation.py:87: FutureWarning: Function get_feature_names is deprecated; get_feature_names is deprecated in 1.0 and will be removed in 1.2. Please use get_feature_names_out instead.\n",
            "  warnings.warn(msg, category=FutureWarning)\n"
          ]
        },
        {
          "data": {
            "image/png": "[encoded data removed]",
            "text/plain": [
              "<Figure size 1440x720 with 1 Axes>"
            ]
          },
          "metadata": {
            "needs_background": "light"
          },
          "output_type": "display_data"
        }
      ],
      "source": [
        "variable_importance(best_lr)\n",
        "#variable_importance(best_rf)\n",
        "#variable_importance(best_gb)"
      ]
    },
    {
      "cell_type": "markdown",
      "id": "aa95eb91-77ec-4d33-a039-b2f9f95097fb",
      "metadata": {
        "id": "aa95eb91-77ec-4d33-a039-b2f9f95097fb"
      },
      "source": [
        "## Performance metrics on test data\n",
        "\n",
        "\n",
        "Here, we can see the performance of the model, which is pretty nice! We can also look into different scores specifically for more insight into the performance."
      ]
    },
    {
      "cell_type": "code",
      "execution_count": 26,
      "id": "19f6f347-e01c-496a-ac3a-7e603361997f",
      "metadata": {
        "id": "19f6f347-e01c-496a-ac3a-7e603361997f",
        "tags": []
      },
      "outputs": [],
      "source": [
        "# TODO: print your classification report of your model\n",
        "\n",
        "def performance_metrics(model):\n",
        "\n",
        "    print(classification_report(y_test, model.predict(X_test)))\n",
        "\n",
        "    cm = confusion_matrix(y_test, model.predict(X_test))\n",
        "    disp = ConfusionMatrixDisplay(confusion_matrix=cm, display_labels=model.classes_)\n",
        "    disp.plot()\n",
        "    plt.show()"
      ]
    },
    {
      "cell_type": "code",
      "execution_count": null,
      "id": "594638a2-fe7e-4295-ac53-edca4db92565",
      "metadata": {
        "id": "594638a2-fe7e-4295-ac53-edca4db92565"
      },
      "outputs": [],
      "source": [
        "\n",
        "performance_metrics(best_lr)\n",
        "performance_metrics(best_rf)\n",
        "performance_metrics(best_gb)\n"
      ]
    },
    {
      "cell_type": "code",
      "execution_count": 28,
      "id": "6a44e88d",
      "metadata": {},
      "outputs": [],
      "source": [
        "def calculate_financial_value(model):\n",
        "\n",
        "    cm = confusion_matrix(y_test, model.predict(X_test))\n",
        "    tp = cm[0][0]\n",
        "    fp = cm[0][1]\n",
        "    fn = cm[1][0]\n",
        "    tn = cm[1][1]\n",
        "\n",
        "    # We are doing intervention on every person predicted to leave\n",
        "    total_predicted_leave = tn + fn\n",
        "    total_intervention_cost = total_predicted_leave * 2000\n",
        "\n",
        "    # Intervention works on 20% of those who were actually going to leave\n",
        "    decided_to_leave = int(tn * 0.8)\n",
        "\n",
        "    # $120k for each person that decided to leave and intervention didn't work on\n",
        "    replacement_cost = decided_to_leave * 120_000\n",
        "\n",
        "    total_cost = total_intervention_cost + replacement_cost\n",
        "    return total_cost"
      ]
    },
    {
      "cell_type": "code",
      "execution_count": 29,
      "id": "b5340b45",
      "metadata": {},
      "outputs": [
        {
          "name": "stdout",
          "output_type": "stream",
          "text": [
            "Total cost of intervention LR model: $2278000\n",
            "Total cost of intervention RF model: $958000\n",
            "Total cost of intervention GB model: $1918000\n"
          ]
        }
      ],
      "source": [
        "print(f\"Total cost of intervention LR model: ${calculate_financial_value(best_lr)}\")\n",
        "print(f\"Total cost of intervention RF model: ${calculate_financial_value(best_rf)}\")\n",
        "print(f\"Total cost of intervention GB model: ${calculate_financial_value(best_gb)}\")"
      ]
    }
  ],
  "metadata": {
    "colab": {
      "name": "employee-churn-template.ipynb",
      "provenance": []
    },
    "interpreter": {
      "hash": "320cb2b2d75f7ee92200d1be518fbc492824dc2227941356d2c78fc05a83dd74"
    },
    "kernelspec": {
      "display_name": "Python 3.10.4 ('ml-class')",
      "language": "python",
      "name": "python3"
    },
    "language_info": {
      "codemirror_mode": {
        "name": "ipython",
        "version": 3
      },
      "file_extension": ".py",
      "mimetype": "text/x-python",
      "name": "python",
      "nbconvert_exporter": "python",
      "pygments_lexer": "ipython3",
      "version": "3.10.4"
    }
  },
  "nbformat": 4,
  "nbformat_minor": 5
}
